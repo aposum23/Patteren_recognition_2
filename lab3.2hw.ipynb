{
 "cells": [
  {
   "cell_type": "markdown",
   "metadata": {},
   "source": [
    "# Лабораторная работа 3.2. Домашнее задание"
   ]
  },
  {
   "cell_type": "markdown",
   "metadata": {},
   "source": [
    "### Задание №1"
   ]
  },
  {
   "cell_type": "markdown",
   "metadata": {},
   "source": [
    "Создайте два массива: в первом должны быть четные числа от 2 до 12 включительно, а в другом числа 7, 11, 15, 18, 23, 29."
   ]
  },
  {
   "cell_type": "markdown",
   "metadata": {},
   "source": [
    "$1.$ Сложите массивы и возведите элементы получившегося массива в квадрат:"
   ]
  },
  {
   "cell_type": "code",
   "execution_count": 1,
   "metadata": {},
   "outputs": [],
   "source": [
    "import numpy as np"
   ]
  },
  {
   "cell_type": "code",
   "execution_count": 2,
   "metadata": {
    "jupyter": {
     "outputs_hidden": true
    }
   },
   "outputs": [
    {
     "name": "stdout",
     "output_type": "stream",
     "text": [
      "[ 2  4  6  8 10 12]\n",
      "[ 7 11 15 18 23 29]\n"
     ]
    }
   ],
   "source": [
    "a = np.arange(2, 13, 2)\n",
    "b = np.array([7, 11, 15, 18, 23, 29])\n",
    "print(a)\n",
    "print(b)"
   ]
  },
  {
   "cell_type": "markdown",
   "metadata": {},
   "source": [
    "$2.$ Выведите все элементы из первого массива, индексы которых соответствуют индексам тех элементов второго массива, которые больше 12 и дают остаток 3 при делении на 5."
   ]
  },
  {
   "cell_type": "code",
   "execution_count": 3,
   "metadata": {
    "jupyter": {
     "outputs_hidden": true
    }
   },
   "outputs": [
    {
     "data": {
      "text/plain": [
       "array([ 8, 10])"
      ]
     },
     "execution_count": 3,
     "metadata": {},
     "output_type": "execute_result"
    }
   ],
   "source": [
    "loc = np.logical_and(b > 12, b % 5 == 3)\n",
    "a[loc]"
   ]
  },
  {
   "cell_type": "markdown",
   "metadata": {},
   "source": [
    "*3.* Проверьте условие \"Элементы первого массива делятся на 4, элементы второго массива меньше 14\". (Подсказка: в результате должен получиться массив с True и False)"
   ]
  },
  {
   "cell_type": "code",
   "execution_count": 4,
   "metadata": {},
   "outputs": [
    {
     "name": "stdout",
     "output_type": "stream",
     "text": [
      "[ True  True False  True False  True]\n"
     ]
    }
   ],
   "source": [
    "log1 = a % 4 == 0\n",
    "log2 = b < 14\n",
    "print(log1 + log2)"
   ]
  },
  {
   "cell_type": "markdown",
   "metadata": {},
   "source": [
    "### Задание №2"
   ]
  },
  {
   "cell_type": "markdown",
   "metadata": {},
   "source": [
    "* Найдите интересный для вас датасет. Например, можно выбрать датасет тут. http://data.un.org/Explorer.aspx (выбираете датасет, жмете на view data, потом download, выбирайте csv формат)\n",
    "* Рассчитайте подходящие описательные статистики для признаков объектов в выбранном датасете\n",
    "* Проанализируйте и прокомментируйте содержательно получившиеся результаты\n",
    "* Все комментарии оформляйте строго в ячейках формата markdown\n",
    "    "
   ]
  },
  {
   "cell_type": "markdown",
   "metadata": {},
   "source": [
    "Ищем зависимость числа рождения от уровня грамотности\n",
    "Число рождения - зависимая y\n",
    "Уровень грамотности - независимая x"
   ]
  },
  {
   "cell_type": "code",
   "execution_count": 5,
   "metadata": {},
   "outputs": [],
   "source": [
    "import csv\n",
    "import matplotlib.pyplot as plt\n",
    "%matplotlib inline"
   ]
  },
  {
   "cell_type": "code",
   "execution_count": 6,
   "metadata": {
    "jupyter": {
     "outputs_hidden": true
    }
   },
   "outputs": [],
   "source": [
    "# Данные формата Страна, Год, детей рождено, уровень грамотности\n",
    "with open('Годовое число рождений.csv', 'r', newline='') as csvfile:\n",
    "    data = csv.reader(csvfile, delimiter=',')\n",
    "    birth = [[\"Country\", \"Year\", \"Value\"]]\n",
    "    for row in data:\n",
    "        if row[5].isdigit():\n",
    "            birth.append([row[1], int(row[5]), int(row[11])])\n",
    "            \n",
    "with open('Уровень грамотности взрослого населения.csv', 'r', newline='') as csvfile:\n",
    "    data = csv.reader(csvfile, delimiter=',')\n",
    "    literacy = [[\"Country\", \"First year\", \"Last year\", \"Value\"]]\n",
    "    for row in data:\n",
    "        if row[11].isdigit():\n",
    "            f_year, l_year = map(int, row[5].split('-'))\n",
    "            literacy.append([row[1], f_year, l_year, int(row[11])])\n",
    "            \n",
    "data = [[\"Country\", \"Year\", \"Birth\", \"Literacy\"]]\n",
    "for row1 in birth:\n",
    "    for row2 in literacy:\n",
    "        if row1[0] == row2[0] and row1[1] >= row2[1] and row1[1] <= row2[2]:\n",
    "            data.append([row1[0], int(row1[1]), int(row1[2]), int(row2[3])])\n",
    "data = np.array(data)"
   ]
  },
  {
   "cell_type": "code",
   "execution_count": 7,
   "metadata": {},
   "outputs": [
    {
     "name": "stdout",
     "output_type": "stream",
     "text": [
      "[    41    712    803    693     47    184     23   3016    107    356\n",
      "     15    264     32     47   2996      8     75    730    288    317\n",
      "    716     10   5823    156    511    245  16364    910     28     73\n",
      "    679     43    110     13    348   2912    216  28448  14399    298\n",
      "   1886    126     26    193     16   2613     42     67     51    776\n",
      "    117    473    394     59    266    205    100  27098   4331   1255\n",
      "   1144    557     50    154    345   1560     50    131    140  10790\n",
      "     24  28334     65     60    157    144     35    747    686    579\n",
      "      5    728      4    118     16   2195  10017     65      8    620\n",
      "    889    824     60    722    138    777   6458     50   4764     70\n",
      "    208    158    591   2358    410     97     21     44    221   1689\n",
      "    449      4      5    605    471    110    227     47     20   1052\n",
      "  37402    499    373    137  32584     10     35    466    194    824\n",
      "     22     44    195      3     20    179   1289    109   1545    494\n",
      "     94   1913     49    589      7    598   1458  16712 135056    940\n",
      "    622]\n",
      "[ 96  73  70  98 100 100  92  57 100  42  53  91  98  84  90  95  98  29\n",
      "  67  74  71  84  98  56  34  99  94  93  75  96  56  99 100  98 100  67\n",
      "  90  94  68  92  72  84  94  68 100  39  88  50 100  67  97  75  41  54\n",
      "  49  85  99  63  93  85  78  99  87  93 100  87  94  99  73  91 100  60\n",
      "  90  90  61  89 100  64  75  93  98  31  92  58  89  93  77  97  98  56\n",
      "  56  92  89  60  78  29  61  87  55  94  61  94  90  95 100  95  96  99\n",
      "  98 100  71  99  89  87  50  98  42  96 100  89  62  98  91  95  63  95\n",
      "  87  83 100  94  97  58  57  99  99  78  91 100  73 100  90  73  98  99\n",
      "  83  96  93  57  84  64  71]\n"
     ]
    }
   ],
   "source": [
    "birth = np.int_(np.array(data[1:, 2]))\n",
    "literacy = np.int_(np.array(data[1:, 3]))\n",
    "print(birth)\n",
    "print(literacy)"
   ]
  },
  {
   "cell_type": "code",
   "execution_count": 8,
   "metadata": {},
   "outputs": [
    {
     "data": {
      "text/plain": [
       "[<matplotlib.lines.Line2D at 0x1bbf0ea3070>]"
      ]
     },
     "execution_count": 8,
     "metadata": {},
     "output_type": "execute_result"
    },
    {
     "data": {
      "image/png": "[encoded data removed]",
      "text/plain": [
       "<Figure size 432x288 with 1 Axes>"
      ]
     },
     "metadata": {
      "needs_background": "light"
     },
     "output_type": "display_data"
    }
   ],
   "source": [
    "plt.title('Число рождений от уровня грамотности', fontsize=20, fontname='Times New Roman')\n",
    "plt.xlabel('Годовое число рождений', color='gray')\n",
    "plt.ylabel('Уровень грамотности взрослого населения',color='gray')\n",
    "plt.plot(birth, literacy, color=\"r\", marker=\"*\", linestyle=\"none\")"
   ]
  },
  {
   "cell_type": "code",
   "execution_count": 9,
   "metadata": {},
   "outputs": [
    {
     "name": "stdout",
     "output_type": "stream",
     "text": [
      "Среднее значение годового числа рождения: 2918.4039735099336\n",
      "Среднее значение уровеня грамотности взрослого населения: 81.88079470198676\n",
      "Среднее отклонение годового числа рождения: 12323.610323535137\n",
      "Среднее отклонение уровеня грамотности взрослого населения: 18.465979871468555\n",
      "Дисперсия годового числа рождения: 151871371.4063418\n",
      "Дисперсия уровеня грамотности взрослого населения: 340.99241261348186\n",
      "Коэффициент парной корреляции:\n",
      " [[ 1.         -0.07823878]\n",
      " [-0.07823878  1.        ]]\n"
     ]
    }
   ],
   "source": [
    "print(f\"Среднее значение годового числа рождения: {np.mean(birth)}\")\n",
    "print(f\"Среднее значение уровеня грамотности взрослого населения: {np.mean(literacy)}\")\n",
    "print(f\"Среднее отклонение годового числа рождения: {np.std(birth)}\")\n",
    "print(f\"Среднее отклонение уровеня грамотности взрослого населения: {np.std(literacy)}\")\n",
    "print(f\"Дисперсия годового числа рождения: {np.var(birth)}\")\n",
    "print(f\"Дисперсия уровеня грамотности взрослого населения: {np.var(literacy)}\")\n",
    "print(f\"Коэффициент парной корреляции:\\n {np.corrcoef(literacy, birth)}\")"
   ]
  },
  {
   "cell_type": "code",
   "execution_count": 10,
   "metadata": {},
   "outputs": [
    {
     "data": {
      "text/plain": [
       "[<matplotlib.lines.Line2D at 0x1bbf1a6ca90>]"
      ]
     },
     "execution_count": 10,
     "metadata": {},
     "output_type": "execute_result"
    },
    {
     "data": {
      "image/png": "[encoded data removed]",
      "text/plain": [
       "<Figure size 432x288 with 1 Axes>"
      ]
     },
     "metadata": {
      "needs_background": "light"
     },
     "output_type": "display_data"
    }
   ],
   "source": [
    "plt.title('Число рождений от уровня грамотности', fontsize=20, fontname='Times New Roman')\n",
    "plt.xlabel('Годовое число рождений', color='gray')\n",
    "plt.ylabel('Уровень грамотности взрослого населения',color='gray')\n",
    "A = np.vstack([birth, np.ones(len(birth))]).T\n",
    "m, c = np.linalg.lstsq(A, literacy, rcond=None)[0]\n",
    "plt.plot(birth, m*birth + c, 'b')\n",
    "plt.plot(birth, literacy, color=\"r\", marker=\"*\", linestyle=\"none\")"
   ]
  }
 ],
 "metadata": {
  "kernelspec": {
   "display_name": "Python 3",
   "language": "python",
   "name": "python3"
  },
  "language_info": {
   "codemirror_mode": {
    "name": "ipython",
    "version": 3
   },
   "file_extension": ".py",
   "mimetype": "text/x-python",
   "name": "python",
   "nbconvert_exporter": "python",
   "pygments_lexer": "ipython3",
   "version": "3.8.8"
  }
 },
 "nbformat": 4,
 "nbformat_minor": 4
}
