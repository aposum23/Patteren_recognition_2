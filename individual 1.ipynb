{
 "cells": [
  {
   "cell_type": "markdown",
   "id": "cb6f67cc",
   "metadata": {},
   "source": [
    "### Задача:\n",
    "Для заданной матрицы размером 8 на 8 найти такие k, что k-я строка матрицы совпадает с k-м столбцом."
   ]
  },
  {
   "cell_type": "code",
   "execution_count": 1,
   "id": "65440ef1",
   "metadata": {},
   "outputs": [],
   "source": [
    "import numpy as np"
   ]
  },
  {
   "cell_type": "code",
   "execution_count": 2,
   "id": "46762ead",
   "metadata": {},
   "outputs": [],
   "source": [
    "matrix = np.matrix('-1 2 3 4 5 6 7 8;'\n",
    "                   '2 3 4 5 6 7 8 5;'\n",
    "                   '3 4 5 6 7 8 9 5;'\n",
    "                   '4 5 6 7 8 9 0 5;'\n",
    "                   '5 6 7 8 9 0 1 5;'\n",
    "                   '6 7 8 9 0 1 2 5;'\n",
    "                   '7 8 9 0 1 2 -3 4;'\n",
    "                   '8 9 0 1 2 3 4 5')"
   ]
  },
  {
   "cell_type": "code",
   "execution_count": 3,
   "id": "e6e5f738",
   "metadata": {},
   "outputs": [
    {
     "name": "stdout",
     "output_type": "stream",
     "text": [
      "[[-1  2  3  4  5  6  7  8]\n",
      " [ 2  3  4  5  6  7  8  5]\n",
      " [ 3  4  5  6  7  8  9  5]\n",
      " [ 4  5  6  7  8  9  0  5]\n",
      " [ 5  6  7  8  9  0  1  5]\n",
      " [ 6  7  8  9  0  1  2  5]\n",
      " [ 7  8  9  0  1  2 -3  4]\n",
      " [ 8  9  0  1  2  3  4  5]]\n"
     ]
    }
   ],
   "source": [
    "print(matrix)"
   ]
  },
  {
   "cell_type": "code",
   "execution_count": 4,
   "id": "09d4d7fd",
   "metadata": {},
   "outputs": [
    {
     "name": "stdout",
     "output_type": "stream",
     "text": [
      "Значения k, такие, что k-я строка матрицы совпадает с k-м столбцом: [0 6]\n"
     ]
    }
   ],
   "source": [
    "condition = matrix == matrix.transpose()\n",
    "condition = condition.prod(axis=0)\n",
    "condition = np.ravel(np.where(condition == 1, True, False))\n",
    "k = np.arange(condition.size)[condition]\n",
    "\n",
    "print(f\"Значения k, такие, что k-я строка \"\n",
    "      f\"матрицы совпадает с k-м столбцом: {k}\")"
   ]
  },
  {
   "cell_type": "markdown",
   "id": "9aed3676",
   "metadata": {},
   "source": [
    "### Задача:\n",
    "Найти сумму элементов в тех строках, которые содержат хотя бы один отрицательный элемент."
   ]
  },
  {
   "cell_type": "code",
   "execution_count": 5,
   "id": "cd8874c1",
   "metadata": {},
   "outputs": [
    {
     "name": "stdout",
     "output_type": "stream",
     "text": [
      "Суммы элементов в строках, которые содержат хотя бы один отрицательный элемент: [34 28]\n"
     ]
    }
   ],
   "source": [
    "condition = matrix < 0\n",
    "condition = condition.sum(axis=0)\n",
    "condition = np.ravel(np.where(condition == 1, True, False))\n",
    "ans = np.ravel(matrix[condition].sum(axis = 1))\n",
    "print(f\"Суммы элементов в строках, которые содержат \"\n",
    "      f\"хотя бы один отрицательный элемент: {ans}\")"
   ]
  }
 ],
 "metadata": {
  "kernelspec": {
   "display_name": "Python 3",
   "language": "python",
   "name": "python3"
  },
  "language_info": {
   "codemirror_mode": {
    "name": "ipython",
    "version": 3
   },
   "file_extension": ".py",
   "mimetype": "text/x-python",
   "name": "python",
   "nbconvert_exporter": "python",
   "pygments_lexer": "ipython3",
   "version": "3.8.8"
  }
 },
 "nbformat": 4,
 "nbformat_minor": 5
}
